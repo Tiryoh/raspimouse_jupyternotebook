{
 "cells": [
  {
   "cell_type": "markdown",
   "metadata": {},
   "source": [
    "# Raspberry Pi Mouse motor control test\n",
    "\n",
    "[raspimouse_http_controller](https://github.com/Tiryoh/raspimouse_http_controller)と組み合わせて使用するラズパイマウスのモータ制御テスト用Jupyter Notebookです。\n",
    "\n",
    "注がある場合を除き、本ページに掲載されているコードは[MIT](https://tiryoh.mit-license.org/)ライセンスに、文章は[CC BY 4.0](https://creativecommons.org/licenses/by/4.0/deed.ja)ライセンスに基づいて公開します。\n",
    "\n",
    "\n",
    "<!-- 実際に動いている様子は<a href=\"#\" target=\"_blank\">YouTubeの動画</a>で確認できます。 -->\n",
    "\n",
    "## Requirements\n",
    "\n",
    "Python 3を必要とします。"
   ]
  },
  {
   "cell_type": "markdown",
   "metadata": {},
   "source": [
    "# step1\n",
    "ラズパイマウスとの通信に必要なPythonのモジュールをインポートします。"
   ]
  },
  {
   "cell_type": "code",
   "execution_count": 1,
   "metadata": {
    "collapsed": true
   },
   "outputs": [],
   "source": [
    "# 数値計算及び描画に必要なモジュール\n",
    "import numpy as np\n",
    "import math\n",
    "from  matplotlib import pyplot as plt\n",
    "from  matplotlib import patches as patches\n",
    "\n",
    "# 通信用\n",
    "import urllib.request\n",
    "import time\n",
    "import argparse\n",
    "import json\n",
    "import threading\n",
    "\n",
    "# デバッグ用\n",
    "from pprint import pprint"
   ]
  },
  {
   "cell_type": "markdown",
   "metadata": {},
   "source": [
    "# step2\n",
    "\n",
    "送信用のクラス(Sender)を作成します。ラズパイマウスとTCP通信を行います。"
   ]
  },
  {
   "cell_type": "code",
   "execution_count": 2,
   "metadata": {},
   "outputs": [],
   "source": [
    "class Sender(object):\n",
    "    def __init__(self, ip, port):\n",
    "        print(\"init\")\n",
    "        self.url = \"http://{}:{}\".format(ip, port)\n",
    "        print (\"connecting to \" + self.url)\n",
    "\n",
    "    def set_motor_power(self, mode):\n",
    "        response_data = []\n",
    "        request = urllib.request.Request(self.url)\n",
    "        obj = {\n",
    "        \"motor_power\" : mode\n",
    "        }\n",
    "        json_data = json.dumps(obj).encode('utf-8')\n",
    "        headers = {\"Content-Type\" : \"application/json\"}\n",
    "        request = urllib.request.Request(self.url, data=json_data, headers=headers, method='POST')\n",
    "        with urllib.request.urlopen(request) as response:\n",
    "            response_body = response.read().decode('utf-8')\n",
    "            response_data.append(response_body)\n",
    "        return response_data\n",
    "\n",
    "    def set_motor_speed(self, left, right):\n",
    "        response_data = []\n",
    "        request = urllib.request.Request(self.url)\n",
    "        obj = {\n",
    "        \"motor\" : {\n",
    "            \"l\" : int(left), \n",
    "            \"r\" : int(right)\n",
    "        }\n",
    "        }\n",
    "        json_data = json.dumps(obj).encode('utf-8')\n",
    "        headers = {\"Content-Type\" : \"application/json\"}\n",
    "        request = urllib.request.Request(self.url, data=json_data, headers=headers, method='POST')\n",
    "        with urllib.request.urlopen(request) as response:\n",
    "            response_body = response.read().decode('utf-8')\n",
    "            response_data.append(response_body)\n",
    "        return response_data"
   ]
  },
  {
   "cell_type": "markdown",
   "metadata": {},
   "source": [
    "# step3\n",
    "\n",
    "ラズパイマウスに接続します。\n",
    "引数にはIPアドレスと使用するTCPポートを指定します。"
   ]
  },
  {
   "cell_type": "code",
   "execution_count": 3,
   "metadata": {},
   "outputs": [
    {
     "name": "stdout",
     "output_type": "stream",
     "text": [
      "init\n",
      "connecting to http://192.168.22.137:5000\n"
     ]
    }
   ],
   "source": [
    "# s = Sender(\"192.168.64.3\", 5000)\n",
    "s = Sender(\"192.168.22.137\", 5000)"
   ]
  },
  {
   "cell_type": "markdown",
   "metadata": {},
   "source": [
    "# step4\n",
    "\n",
    "試しにラズパイマウスを1秒間旋回させてみます。"
   ]
  },
  {
   "cell_type": "code",
   "execution_count": 4,
   "metadata": {},
   "outputs": [
    {
     "name": "stdout",
     "output_type": "stream",
     "text": [
      "['{\"motor_power\": 1}']\n",
      "['{\"motor_r\": -400, \"motor_l\": 400}']\n",
      "['{\"motor_r\": 0, \"motor_l\": 0}']\n",
      "['{\"motor_power\": 0}']\n"
     ]
    }
   ],
   "source": [
    "print(s.set_motor_power(1))\n",
    "print(s.set_motor_speed(400, -400))\n",
    "time.sleep(1)\n",
    "print(s.set_motor_speed(0, 0))\n",
    "print(s.set_motor_power(0))"
   ]
  }
 ],
 "metadata": {
  "kernelspec": {
   "display_name": "Python 3",
   "language": "python",
   "name": "python3"
  },
  "language_info": {
   "codemirror_mode": {
    "name": "ipython",
    "version": 3
   },
   "file_extension": ".py",
   "mimetype": "text/x-python",
   "name": "python",
   "nbconvert_exporter": "python",
   "pygments_lexer": "ipython3",
   "version": "3.6.1"
  }
 },
 "nbformat": 4,
 "nbformat_minor": 2
}
