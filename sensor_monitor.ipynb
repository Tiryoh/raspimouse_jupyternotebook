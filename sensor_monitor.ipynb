{
 "cells": [
  {
   "cell_type": "markdown",
   "metadata": {},
   "source": [
    "# Raspberry Pi Mouse sensor monitor\n",
    "\n",
    "[raspimouse_http_controller](https://github.com/Tiryoh/raspimouse_http_controller)と組み合わせて使用するラズパイマウスのセンサ値連続受信用Jupyter Notebookです。\n",
    "\n",
    "注がある場合を除き、本ページに掲載されているコードはMITライセンスに、文章はクリエイティブ・コモンズ・ライセンスに基づいて公開します。\n",
    "<a rel=\"license\" href=\"http://creativecommons.org/licenses/by/4.0/\"><img alt=\"クリエイティブ・コモンズ・ライセンス\" style=\"border-width:0\" src=\"https://i.creativecommons.org/l/by/4.0/88x31.png\" /></a>\n",
    "\n",
    "## Requirements\n",
    "\n",
    "Python 3を必要とします。"
   ]
  },
  {
   "cell_type": "markdown",
   "metadata": {},
   "source": [
    "# step1\n",
    "Pythonのモジュールをインポートします。\n",
    "Jupyter Notebookでの描画に必要なモジュールと、ラズパイマウスとの通信に必要なモジュールと分かれています。"
   ]
  },
  {
   "cell_type": "code",
   "execution_count": 1,
   "metadata": {
    "collapsed": true
   },
   "outputs": [],
   "source": [
    "# 数値計算及び描画に必要なモジュール\n",
    "import numpy as np\n",
    "import math\n",
    "from  matplotlib import pyplot as plt\n",
    "\n",
    "# 通信用\n",
    "import urllib.request\n",
    "import time\n",
    "import argparse\n",
    "import json\n",
    "import threading\n",
    "\n",
    "# JupyterNotebook用モジュール\n",
    "from IPython import display\n",
    "\n",
    "# デバッグ用\n",
    "from pprint import pprint"
   ]
  },
  {
   "cell_type": "markdown",
   "metadata": {},
   "source": [
    "# step2\n",
    "\n",
    "受信用のクラス(Receiver)を作成します。ラズパイマウスとTCP通信を行います。"
   ]
  },
  {
   "cell_type": "code",
   "execution_count": 2,
   "metadata": {
    "collapsed": true
   },
   "outputs": [],
   "source": [
    "class Receiver(object):\n",
    "    def __init__(self, ip, port):\n",
    "        print(\"init\")\n",
    "        self.url = \"http://{}:{}\".format(ip, port)\n",
    "        print (\"connecting to \" + self.url)\n",
    "\n",
    "    def get_sensor_val(self):\n",
    "        start = time.time()\n",
    "        request = urllib.request.Request(self.url)\n",
    "        response = urllib.request.urlopen(request)\n",
    "        sensor_dict = json.loads(response.read().decode('utf-8'))\n",
    "        return sensor_dict"
   ]
  },
  {
   "cell_type": "markdown",
   "metadata": {},
   "source": [
    "# step3\n",
    "\n",
    "ラズパイマウスと接続を確立します。\n",
    "引数にはIPアドレスと使用するTCPポートを指定します。"
   ]
  },
  {
   "cell_type": "code",
   "execution_count": 3,
   "metadata": {},
   "outputs": [
    {
     "name": "stdout",
     "output_type": "stream",
     "text": [
      "init\n",
      "connecting to http://192.168.22.234:5000\n"
     ]
    }
   ],
   "source": [
    "# r = Receiver(\"192.168.64.3\", 5000)\n",
    "r = Receiver(\"192.168.22.234\", 5000)"
   ]
  },
  {
   "cell_type": "markdown",
   "metadata": {},
   "source": [
    "# step4\n",
    "\n",
    "試しにラズパイマウスからセンサの値を受信し、`print` してみます。"
   ]
  },
  {
   "cell_type": "code",
   "execution_count": 4,
   "metadata": {},
   "outputs": [
    {
     "name": "stdout",
     "output_type": "stream",
     "text": [
      "{'line sensor': {'3': 17, '1': 30, '2': 1036, '0': 40}, 'switch': {'1': 0, '2': 0, '0': 0}}\n",
      "[{'line sensor': {'3': 17, '1': 30, '2': 1036, '0': 40}, 'switch': {'1': 0, '2': 0, '0': 0}}]\n"
     ]
    }
   ],
   "source": [
    "history = []\n",
    "hoge = r.get_sensor_val()\n",
    "history.append(hoge)\n",
    "print(hoge)\n",
    "print(history)"
   ]
  },
  {
   "cell_type": "markdown",
   "metadata": {},
   "source": [
    "# step5\n",
    "\n",
    "ラズパイマウスからセンサの値を連続受信し、`pprint` してみます。\n",
    "`pprint` を用いることで `print` される内容が整形されます。"
   ]
  },
  {
   "cell_type": "code",
   "execution_count": 5,
   "metadata": {},
   "outputs": [
    {
     "name": "stdout",
     "output_type": "stream",
     "text": [
      "[{'line sensor': {'0': 40, '1': 30, '2': 1036, '3': 17},\n",
      "  'switch': {'0': 0, '1': 0, '2': 0}},\n",
      " {'line sensor': {'0': 38, '1': 30, '2': 1029, '3': 20},\n",
      "  'switch': {'0': 0, '1': 0, '2': 0}},\n",
      " {'line sensor': {'0': 41, '1': 32, '2': 1013, '3': 17},\n",
      "  'switch': {'0': 0, '1': 0, '2': 0}},\n",
      " {'line sensor': {'0': 43, '1': 29, '2': 1024, '3': 14},\n",
      "  'switch': {'0': 0, '1': 0, '2': 0}},\n",
      " {'line sensor': {'0': 40, '1': 28, '2': 1045, '3': 17},\n",
      "  'switch': {'0': 0, '1': 0, '2': 0}},\n",
      " {'line sensor': {'0': 43, '1': 33, '2': 1019, '3': 22},\n",
      "  'switch': {'0': 0, '1': 0, '2': 0}},\n",
      " {'line sensor': {'0': 42, '1': 27, '2': 1018, '3': 16},\n",
      "  'switch': {'0': 0, '1': 0, '2': 0}},\n",
      " {'line sensor': {'0': 43, '1': 36, '2': 1033, '3': 19},\n",
      "  'switch': {'0': 0, '1': 0, '2': 0}},\n",
      " {'line sensor': {'0': 36, '1': 32, '2': 1032, '3': 17},\n",
      "  'switch': {'0': 0, '1': 0, '2': 0}},\n",
      " {'line sensor': {'0': 39, '1': 31, '2': 1033, '3': 18},\n",
      "  'switch': {'0': 0, '1': 0, '2': 0}},\n",
      " {'line sensor': {'0': 41, '1': 32, '2': 1007, '3': 17},\n",
      "  'switch': {'0': 0, '1': 0, '2': 0}}]\n"
     ]
    }
   ],
   "source": [
    "for i in range(10):\n",
    "    hoge = r.get_sensor_val()\n",
    "    history.append(hoge)\n",
    "    time.sleep(0.1)\n",
    "\n",
    "pprint(history)"
   ]
  },
  {
   "cell_type": "markdown",
   "metadata": {},
   "source": [
    "# step6\n",
    "\n",
    "ラズパイマウスからセンサの値を連続受信し、受信するたびにグラフに描画します。\n",
    "実際に動いている様子は[YouTube](https://youtu.be/lDSP9AbkdVw)から確認できます。"
   ]
  },
  {
   "cell_type": "code",
   "execution_count": 6,
   "metadata": {},
   "outputs": [
    {
     "data": {
      "image/png": "[encoded data removed]",
      "text/plain": [
       "<matplotlib.figure.Figure at 0x111e3a5c0>"
      ]
     },
     "metadata": {},
     "output_type": "display_data"
    },
    {
     "name": "stdout",
     "output_type": "stream",
     "text": [
      "done.\n"
     ]
    }
   ],
   "source": [
    "history = []\n",
    "\n",
    "for i in range(30):\n",
    "    \n",
    "    if len(history) > 100:\n",
    "        history = []\n",
    "    \n",
    "    # ラズパイマウスから情報所得\n",
    "    for i in range(5):\n",
    "        hoge = r.get_sensor_val()\n",
    "        history.append(hoge)\n",
    "        time.sleep(0.1)\n",
    "    \n",
    "    # タイトル付き新規ウィンドウ、座標軸を用意\n",
    "    fig = plt.figure(figsize=(8, 8))\n",
    "    plt.title(\"sensor history\")\n",
    "    world = fig.add_subplot(1,1,1)\n",
    "    world.set_xlim(0,100)\n",
    "    world.set_ylim(-1.5,2000)\n",
    "\n",
    "\n",
    "    x_arr = np.array([])\n",
    "    y1_arr = np.array([])\n",
    "    y2_arr = np.array([])\n",
    "    y3_arr = np.array([])\n",
    "    y0_arr = np.array([])\n",
    "\n",
    "    for i in range(len(history)):\n",
    "        x_arr = np.append(x_arr, i)\n",
    "        y0_arr = np.append(y0_arr, history[i][\"line sensor\"][\"0\"])\n",
    "        y1_arr = np.append(y1_arr, history[i][\"line sensor\"][\"1\"])\n",
    "        y2_arr = np.append(y2_arr, history[i][\"line sensor\"][\"2\"])\n",
    "        y3_arr = np.append(y3_arr, history[i][\"line sensor\"][\"3\"])\n",
    "\n",
    "    plt.plot(x_arr, y0_arr, label = \"sensor 0(right front)\")\n",
    "    plt.plot(x_arr, y1_arr, label = \"sensor 1(right side)\")\n",
    "    plt.plot(x_arr, y2_arr, label = \"sensor 2(left side)\")\n",
    "    plt.plot(x_arr, y3_arr, label = \"sensor 3(left front)\")\n",
    "\n",
    "    # 左上に凡例を追加\n",
    "    world.legend(loc='upper left')\n",
    "\n",
    "    # 現在の状態を確認\n",
    "    display.clear_output(wait=True)\n",
    "    display.display(plt.gcf())\n",
    "    time.sleep(0.05)\n",
    "    \n",
    "print(\"done.\")"
   ]
  },
  {
   "cell_type": "code",
   "execution_count": null,
   "metadata": {
    "collapsed": true
   },
   "outputs": [],
   "source": []
  }
 ],
 "metadata": {
  "kernelspec": {
   "display_name": "py36",
   "language": "python",
   "name": "py36"
  },
  "language_info": {
   "codemirror_mode": {
    "name": "ipython",
    "version": 3
   },
   "file_extension": ".py",
   "mimetype": "text/x-python",
   "name": "python",
   "nbconvert_exporter": "python",
   "pygments_lexer": "ipython3",
   "version": "3.6.1"
  }
 },
 "nbformat": 4,
 "nbformat_minor": 2
}
