{
 "cells": [
  {
   "cell_type": "markdown",
   "metadata": {},
   "source": [
    "# Raspberry Pi Mouse sensor receiver\n",
    "\n",
    "[raspimouse_http_controller](https://github.com/Tiryoh/raspimouse_http_controller)と組み合わせて使用するラズパイマウスのセンサ値受信用Jupyter Notebookです。\n",
    "\n",
    "注がある場合を除き、本ページに掲載されているコードはMITライセンスに、文章はクリエイティブ・コモンズ・ライセンスに基づいて公開します。\n",
    "<a rel=\"license\" href=\"http://creativecommons.org/licenses/by/4.0/\"><img alt=\"クリエイティブ・コモンズ・ライセンス\" style=\"border-width:0\" src=\"https://i.creativecommons.org/l/by/4.0/88x31.png\" /></a>\n",
    "\n",
    "## Requirements\n",
    "\n",
    "Python 3を必要とします。"
   ]
  },
  {
   "cell_type": "markdown",
   "metadata": {},
   "source": [
    "# step1\n",
    "Pythonのモジュールをインポートします。\n",
    "Jupyter Notebookでの描画に必要なモジュールと、ラズパイマウスとの通信に必要なモジュールと分かれています。"
   ]
  },
  {
   "cell_type": "code",
   "execution_count": 1,
   "metadata": {
    "collapsed": true
   },
   "outputs": [],
   "source": [
    "# 数値計算及び描画に必要なモジュール\n",
    "import numpy as np\n",
    "import math\n",
    "from  matplotlib import pyplot as plt\n",
    "\n",
    "# 通信用\n",
    "import urllib.request\n",
    "import time\n",
    "import argparse\n",
    "import json\n",
    "import threading"
   ]
  },
  {
   "cell_type": "markdown",
   "metadata": {},
   "source": [
    "# step2\n",
    "\n",
    "受信用のクラス(Receiver)を作成します。ラズパイマウスとTCP通信を行います。"
   ]
  },
  {
   "cell_type": "code",
   "execution_count": 2,
   "metadata": {
    "collapsed": true
   },
   "outputs": [],
   "source": [
    "class Receiver(object):\n",
    "    def __init__(self, ip, port):\n",
    "        print(\"init\")\n",
    "        self.url = \"http://{}:{}\".format(ip, port)\n",
    "        print (\"connecting to \" + self.url)\n",
    "\n",
    "    def get_sensor_val(self):\n",
    "        start = time.time()\n",
    "        request = urllib.request.Request(self.url)\n",
    "        response = urllib.request.urlopen(request)\n",
    "        sensor_dict = json.loads(response.read().decode('utf-8'))\n",
    "        return sensor_dict"
   ]
  },
  {
   "cell_type": "markdown",
   "metadata": {},
   "source": [
    "# step3\n",
    "\n",
    "ラズパイマウスと接続を確立します。\n",
    "引数にはIPアドレスと使用するTCPポートを指定します。"
   ]
  },
  {
   "cell_type": "code",
   "execution_count": 3,
   "metadata": {},
   "outputs": [
    {
     "name": "stdout",
     "output_type": "stream",
     "text": [
      "init\n",
      "connecting to http://192.168.22.137:5000\n"
     ]
    }
   ],
   "source": [
    "# r = Receiver(\"192.168.64.3\", 5000)\n",
    "r = Receiver(\"192.168.22.137\", 5000)"
   ]
  },
  {
   "cell_type": "markdown",
   "metadata": {},
   "source": [
    "# step4\n",
    "\n",
    "試しにラズパイマウスからセンサの値を受信し、`print` してみます。"
   ]
  },
  {
   "cell_type": "code",
   "execution_count": 4,
   "metadata": {},
   "outputs": [
    {
     "name": "stdout",
     "output_type": "stream",
     "text": [
      "{'switch': {'2': 0, '1': 0, '0': 0}, 'lightsensor': {'2': 61, '1': 203, '0': 8, '3': 28}}\n",
      "[{'switch': {'2': 0, '1': 0, '0': 0}, 'lightsensor': {'2': 61, '1': 203, '0': 8, '3': 28}}]\n"
     ]
    }
   ],
   "source": [
    "history = []\n",
    "hoge = r.get_sensor_val()\n",
    "history.append(hoge)\n",
    "print(hoge)\n",
    "print(history)"
   ]
  },
  {
   "cell_type": "markdown",
   "metadata": {},
   "source": [
    "# step5\n",
    "\n",
    "今度はラズパイマウスからセンサの値を連続で受信し、最後に `print` してみます。"
   ]
  },
  {
   "cell_type": "code",
   "execution_count": 7,
   "metadata": {},
   "outputs": [
    {
     "name": "stdout",
     "output_type": "stream",
     "text": [
      "[{'switch': {'2': 0, '1': 0, '0': 0}, 'lightsensor': {'2': 61, '1': 203, '0': 8, '3': 28}}, {'switch': {'2': 0, '1': 0, '0': 0}, 'lightsensor': {'2': 58, '1': 517, '0': 20, '3': 37}}, {'switch': {'2': 0, '1': 0, '0': 0}, 'lightsensor': {'2': 61, '1': 482, '0': 19, '3': 26}}, {'switch': {'2': 0, '1': 0, '0': 0}, 'lightsensor': {'2': 58, '1': 465, '0': 18, '3': 34}}, {'switch': {'2': 0, '1': 0, '0': 0}, 'lightsensor': {'2': 59, '1': 525, '0': 20, '3': 29}}, {'switch': {'2': 0, '1': 0, '0': 0}, 'lightsensor': {'2': 54, '1': 176, '0': 430, '3': 28}}, {'switch': {'2': 0, '1': 0, '0': 0}, 'lightsensor': {'2': 55, '1': 274, '0': 14, '3': 69}}, {'switch': {'2': 0, '1': 0, '0': 0}, 'lightsensor': {'2': 61, '1': 275, '0': 6, '3': 287}}, {'switch': {'2': 0, '1': 0, '0': 0}, 'lightsensor': {'2': 65, '1': 290, '0': 9, '3': 159}}, {'switch': {'2': 0, '1': 0, '0': 0}, 'lightsensor': {'2': 67, '1': 281, '0': 9, '3': 212}}, {'switch': {'2': 0, '1': 0, '0': 0}, 'lightsensor': {'2': 59, '1': 263, '0': 10, '3': 202}}, {'switch': {'2': 0, '1': 0, '0': 0}, 'lightsensor': {'2': 73, '1': 278, '0': 11, '3': 109}}, {'switch': {'2': 0, '1': 0, '0': 0}, 'lightsensor': {'2': 164, '1': 284, '0': 8, '3': 96}}, {'switch': {'2': 0, '1': 0, '0': 0}, 'lightsensor': {'2': 169, '1': 275, '0': 5, '3': 212}}, {'switch': {'2': 0, '1': 0, '0': 0}, 'lightsensor': {'2': 65, '1': 268, '0': 6, '3': 221}}, {'switch': {'2': 0, '1': 0, '0': 0}, 'lightsensor': {'2': 59, '1': 269, '0': 30, '3': 34}}, {'switch': {'2': 0, '1': 0, '0': 0}, 'lightsensor': {'2': 62, '1': 265, '0': 192, '3': 29}}, {'switch': {'2': 0, '1': 0, '0': 0}, 'lightsensor': {'2': 57, '1': 283, '0': 232, '3': 30}}, {'switch': {'2': 0, '1': 0, '0': 0}, 'lightsensor': {'2': 56, '1': 291, '0': 254, '3': 29}}, {'switch': {'2': 0, '1': 0, '0': 0}, 'lightsensor': {'2': 59, '1': 279, '0': 249, '3': 29}}, {'switch': {'2': 0, '1': 0, '0': 0}, 'lightsensor': {'2': 57, '1': 292, '0': 239, '3': 27}}, {'switch': {'2': 0, '1': 0, '0': 0}, 'lightsensor': {'2': 62, '1': 273, '0': 2, '3': 30}}, {'switch': {'2': 0, '1': 0, '0': 0}, 'lightsensor': {'2': 52, '1': 280, '0': 7, '3': 32}}, {'switch': {'2': 0, '1': 0, '0': 0}, 'lightsensor': {'2': 59, '1': 173, '0': 6, '3': 32}}, {'switch': {'2': 0, '1': 0, '0': 0}, 'lightsensor': {'2': 59, '1': 267, '0': 111, '3': 27}}, {'switch': {'2': 0, '1': 0, '0': 0}, 'lightsensor': {'2': 60, '1': 276, '0': 10, '3': 30}}, {'switch': {'2': 0, '1': 0, '0': 0}, 'lightsensor': {'2': 55, '1': 267, '0': 6, '3': 267}}, {'switch': {'2': 0, '1': 0, '0': 0}, 'lightsensor': {'2': 54, '1': 270, '0': 4, '3': 30}}, {'switch': {'2': 0, '1': 0, '0': 0}, 'lightsensor': {'2': 413, '1': 266, '0': 12, '3': 30}}, {'switch': {'2': 0, '1': 0, '0': 0}, 'lightsensor': {'2': 416, '1': 276, '0': 1, '3': 30}}, {'switch': {'2': 0, '1': 0, '0': 0}, 'lightsensor': {'2': 404, '1': 274, '0': 5, '3': 36}}]\n"
     ]
    }
   ],
   "source": [
    "for i in range(10):\n",
    "    hoge = r.get_sensor_val()\n",
    "    history.append(hoge)\n",
    "    time.sleep(0.1)\n",
    "\n",
    "print(history)"
   ]
  },
  {
   "cell_type": "markdown",
   "metadata": {},
   "source": [
    "# step6\n",
    "\n",
    "連続して受信したデータを元にグラフを描画してみます。"
   ]
  },
  {
   "cell_type": "code",
   "execution_count": 8,
   "metadata": {},
   "outputs": [
    {
     "data": {
      "image/png": "[encoded data removed]",
      "text/plain": [
       "<matplotlib.figure.Figure at 0x7f61380b2320>"
      ]
     },
     "metadata": {},
     "output_type": "display_data"
    }
   ],
   "source": [
    "# タイトル付き新規ウィンドウ、座標軸を用意\n",
    "fig = plt.figure(figsize=(8, 8))\n",
    "plt.title(\"sensor history\")\n",
    "world = fig.add_subplot(1,1,1)\n",
    "world.set_xlim(0,100)\n",
    "world.set_ylim(-1.5,2000)\n",
    "\n",
    "\n",
    "x_arr = np.array([])\n",
    "y1_arr = np.array([])\n",
    "y2_arr = np.array([])\n",
    "y3_arr = np.array([])\n",
    "y0_arr = np.array([])\n",
    "\n",
    "for i in range(len(history)):\n",
    "    x_arr = np.append(x_arr, i)\n",
    "    y0_arr = np.append(y0_arr, history[i][\"lightsensor\"][\"0\"])\n",
    "    y1_arr = np.append(y1_arr, history[i][\"lightsensor\"][\"1\"])\n",
    "    y2_arr = np.append(y2_arr, history[i][\"lightsensor\"][\"2\"])\n",
    "    y3_arr = np.append(y3_arr, history[i][\"lightsensor\"][\"3\"])\n",
    "\n",
    "plt.plot(x_arr, y0_arr, label = \"sensor 0(right front)\")\n",
    "plt.plot(x_arr, y1_arr, label = \"sensor 1(right side)\")\n",
    "plt.plot(x_arr, y2_arr, label = \"sensor 2(left side)\")\n",
    "plt.plot(x_arr, y3_arr, label = \"sensor 3(left front)\")\n",
    "\n",
    "# 左上に凡例を追加\n",
    "world.legend(loc='upper left')\n",
    "\n",
    "# 現在の状態を確認\n",
    "plt.show()"
   ]
  },
  {
   "cell_type": "code",
   "execution_count": null,
   "metadata": {
    "collapsed": true
   },
   "outputs": [],
   "source": []
  }
 ],
 "metadata": {
  "kernelspec": {
   "display_name": "Python 3",
   "language": "python",
   "name": "python3"
  },
  "language_info": {
   "codemirror_mode": {
    "name": "ipython",
    "version": 3
   },
   "file_extension": ".py",
   "mimetype": "text/x-python",
   "name": "python",
   "nbconvert_exporter": "python",
   "pygments_lexer": "ipython3",
   "version": "3.6.1"
  }
 },
 "nbformat": 4,
 "nbformat_minor": 2
}
